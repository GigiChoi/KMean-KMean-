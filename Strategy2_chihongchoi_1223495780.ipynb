{
 "cells": [
  {
   "cell_type": "code",
   "execution_count": 272,
   "metadata": {},
   "outputs": [],
   "source": [
    "from Precode2 import *\n",
    "import numpy\n",
    "\n",
    "data = np.load('AllSamples.npy')"
   ]
  },
  {
   "cell_type": "code",
   "execution_count": 273,
   "metadata": {},
   "outputs": [
    {
     "name": "stdout",
     "output_type": "stream",
     "text": [
      "Strategy 2: k and initial points\n"
     ]
    }
   ],
   "source": [
    "k1,i_point1,k2,i_point2 = initial_S2('5780') # please replace 0111 with your last four digit of your ID"
   ]
  },
  {
   "cell_type": "code",
   "execution_count": 274,
   "metadata": {},
   "outputs": [
    {
     "name": "stdout",
     "output_type": "stream",
     "text": [
      "4\n",
      "[5.60001917 3.02332715]\n",
      "6\n",
      "[6.6384501  8.33574252]\n"
     ]
    }
   ],
   "source": [
    "print(k1)\n",
    "print(i_point1)\n",
    "print(k2)\n",
    "print(i_point2)"
   ]
  },
  {
   "cell_type": "code",
   "execution_count": 275,
   "metadata": {},
   "outputs": [],
   "source": [
    "%matplotlib inline\n",
    "import matplotlib.pyplot as plt\n",
    "plt.style.use('seaborn-whitegrid')\n",
    "import sys"
   ]
  },
  {
   "cell_type": "code",
   "execution_count": 276,
   "metadata": {},
   "outputs": [],
   "source": [
    "def get_distance(p1, arr):\n",
    "    distance = 0\n",
    "    for i in arr:\n",
    "        distance += np.sum(np.square(p1-i))\n",
    "    return distance\n",
    "\n",
    "def get_k_centroids(data, centroid, k):\n",
    "    centroid_arr = []\n",
    "    centroid_arr.append(centroid)\n",
    "    \n",
    "    for i in range(k-2,-1,-1):\n",
    "        distance = [get_distance(d,centroid_arr) for d in data]\n",
    "        arg_max = np.argmax(distance)\n",
    "        ki = data[arg_max]\n",
    "        \n",
    "        for j in centroid_arr:\n",
    "            if ki[0] == j[0] and ki[1] == j[1]:\n",
    "                ki = data[np.argsort(distance)[-2]]\n",
    "        \n",
    "        centroid_arr.append(ki)\n",
    "    print(centroid_arr)    \n",
    "    return centroid_arr\n",
    "\n",
    "def do_k_mean_plus_plus_one_iteration(data, centroid):\n",
    "    cluster = [0] * len(data)\n",
    "    num_points_in_cluster = [0] * len(centroid)\n",
    "    sum_points_in_cluster = np.zeros((len(centroid), 2))\n",
    "    centroid_next = np.zeros((len(centroid), 2))\n",
    "    loss = 0\n",
    "        \n",
    "    for i in range(len(data)):\n",
    "            distance_arr = []\n",
    "\n",
    "            for j in range(len(centroid)):\n",
    "                distance = np.sum(np.square(data[i]-centroid_arr[j]))\n",
    "                distance_arr.append(distance)  \n",
    "\n",
    "            loss += np.min(distance_arr)\n",
    "            c = np.argmin(distance_arr)\n",
    "            cluster[i] = c   \n",
    "            num_points_in_cluster[c] += 1\n",
    "            sum_points_in_cluster[c] += data[i]\n",
    "   \n",
    "    #update centroids\n",
    "    #print(sum_points_in_cluster)\n",
    "    \n",
    "    for k in range(len(sum_points_in_cluster)):\n",
    "        centroid_next[k] = sum_points_in_cluster[k]/num_points_in_cluster[k]     \n",
    "\n",
    "    return centroid_next, loss\n",
    "            \n",
    "def do_k_mean_plus_plus(data, centroid):\n",
    "    loss_arr = []\n",
    "    centroid_curr = centroid\n",
    "    #print(centroid_curr.size)\n",
    "    \n",
    "    while(True):\n",
    "        centroid_next = centroid_curr\n",
    "        centroid_curr, loss = do_k_mean_one_iteration(data, centroid_curr)\n",
    "        loss_arr.append(loss) \n",
    "        if(np.var(centroid_next) == np.var(centroid_curr)):\n",
    "            break    \n",
    "        \n",
    "    return centroid_curr, loss_arr\n"
   ]
  },
  {
   "cell_type": "code",
   "execution_count": 278,
   "metadata": {},
   "outputs": [
    {
     "name": "stdout",
     "output_type": "stream",
     "text": [
      "[[5.600019172938185, 3.0233271509470305], array([9.26998864, 9.62492869]), array([ 3.85212146, -1.08715226]), array([2.95297924, 9.65073899])]\n",
      "[[6.78374609 2.85019999]\n",
      " [7.17928621 8.0520791 ]\n",
      " [2.85235149 2.28186483]\n",
      " [3.34264769 6.92602803]]\n",
      "[1969.634847557019, 1116.0575704401888, 844.3371714877886, 818.1215935871373, 810.6410858673139, 805.8935545696677, 805.328468495342, 805.1166457472608]\n"
     ]
    },
    {
     "data": {
      "text/plain": [
       "[<matplotlib.lines.Line2D at 0x9c81790>]"
      ]
     },
     "execution_count": 278,
     "metadata": {},
     "output_type": "execute_result"
    },
    {
     "data": {
      "image/png": "[encoded data removed]",
      "text/plain": [
       "<Figure size 432x288 with 1 Axes>"
      ]
     },
     "metadata": {},
     "output_type": "display_data"
    }
   ],
   "source": [
    "starting_centroid = get_k_centroids(data, i_point1.tolist(), k1)\n",
    "centroid, loss_arr = do_k_mean_plus_plus(data, starting_centroid)\n",
    "print(centroid)\n",
    "print(loss_arr)\n",
    "plt.plot(range(len(loss_arr)), loss_arr)"
   ]
  },
  {
   "cell_type": "code",
   "execution_count": 279,
   "metadata": {},
   "outputs": [
    {
     "name": "stdout",
     "output_type": "stream",
     "text": [
      "[array([6.6384501 , 8.33574252]), array([ 3.85212146, -1.08715226]), array([9.26998864, 9.62492869]), array([ 3.04101702, -0.36138487]), array([2.95297924, 9.65073899]), array([ 3.66118224, -0.63372377])]\n",
      "[[5.46427736 6.83771354]\n",
      " [3.14506148 0.90770655]\n",
      " [7.75648325 8.55668928]\n",
      " [3.49556658 3.56611232]\n",
      " [2.56333815 6.9782248 ]\n",
      " [7.41419243 2.32169114]]\n",
      "[3201.7813582636836, 668.713373471987, 535.2327641276428, 500.80523960489677, 479.9393320466872, 476.7158522819938, 476.118751676353]\n"
     ]
    },
    {
     "data": {
      "text/plain": [
       "[<matplotlib.lines.Line2D at 0xa778be0>]"
      ]
     },
     "execution_count": 279,
     "metadata": {},
     "output_type": "execute_result"
    },
    {
     "data": {
      "image/png": "[encoded data removed]",
      "text/plain": [
       "<Figure size 432x288 with 1 Axes>"
      ]
     },
     "metadata": {},
     "output_type": "display_data"
    }
   ],
   "source": [
    "starting_centroid2 = get_k_centroids(data, i_point2, k2)\n",
    "centroid2, loss_arr2 = do_k_mean_plus_plus(data, starting_centroid2)\n",
    "print(centroid2)\n",
    "print(loss_arr2)\n",
    "plt.plot(range(len(loss_arr2)), loss_arr2)"
   ]
  },
  {
   "cell_type": "code",
   "execution_count": 235,
   "metadata": {},
   "outputs": [],
   "source": []
  },
  {
   "cell_type": "code",
   "execution_count": null,
   "metadata": {},
   "outputs": [],
   "source": []
  },
  {
   "cell_type": "code",
   "execution_count": null,
   "metadata": {},
   "outputs": [],
   "source": []
  },
  {
   "cell_type": "code",
   "execution_count": null,
   "metadata": {},
   "outputs": [],
   "source": []
  }
 ],
 "metadata": {
  "kernelspec": {
   "display_name": "Python 3 (ipykernel)",
   "language": "python",
   "name": "python3"
  },
  "language_info": {
   "codemirror_mode": {
    "name": "ipython",
    "version": 3
   },
   "file_extension": ".py",
   "mimetype": "text/x-python",
   "name": "python",
   "nbconvert_exporter": "python",
   "pygments_lexer": "ipython3",
   "version": "3.9.7"
  }
 },
 "nbformat": 4,
 "nbformat_minor": 2
}
